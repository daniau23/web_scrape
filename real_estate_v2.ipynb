{
 "cells": [
  {
   "cell_type": "code",
   "execution_count": 1,
   "metadata": {},
   "outputs": [],
   "source": [
    "import pandas as pd\n",
    "import numpy as np \n",
    "import matplotlib.pyplot as plt\n",
    "import plotly.express as px\n",
    "import plotly.graph_objects as go\n",
    "import seaborn as sns\n",
    "import warnings\n",
    "warnings.filterwarnings(\"ignore\")\n",
    "from bs4 import BeautifulSoup\n",
    "import requests\n",
    "from csv import writer\n",
    "import re"
   ]
  },
  {
   "cell_type": "code",
   "execution_count": 2,
   "metadata": {},
   "outputs": [],
   "source": [
    "url = \"https://www.pararius.com/apartments/amsterdam?ac=1\""
   ]
  },
  {
   "cell_type": "code",
   "execution_count": 3,
   "metadata": {},
   "outputs": [
    {
     "name": "stdout",
     "output_type": "stream",
     "text": [
      "<Response [200]>\n"
     ]
    }
   ],
   "source": [
    "page = requests.get(url)\n",
    "print(page)"
   ]
  },
  {
   "cell_type": "code",
   "execution_count": 4,
   "metadata": {},
   "outputs": [],
   "source": [
    "soup = BeautifulSoup(page.content,'html.parser')\n",
    "# soup"
   ]
  },
  {
   "cell_type": "code",
   "execution_count": 5,
   "metadata": {},
   "outputs": [],
   "source": [
    "# soup.prettify()\n",
    "# print(soup.prettify())"
   ]
  },
  {
   "cell_type": "code",
   "execution_count": 6,
   "metadata": {},
   "outputs": [],
   "source": [
    "# all sections in a list\n",
    "lists = soup.find_all('section', class_='listing-search-item')\n",
    "for list in lists:\n",
    "    title = list.find(\"a\", class_=\"listing-search-item__link--title\")\n",
    "    location = list.find(\"div\", class_=\"listing-search-item__sub-title\")\n",
    "    price = list.find(\"div\", class_=\"listing-search-item__price\")\n",
    "    area = list.find(\"li\", class_=\"illustrated-features__item--surface-area\")\n",
    "    bedrooms = list.find(\"li\", class_=\"illustrated-features__item--number-of-rooms\")\n",
    "    furniture_status = list.find(\"li\", class_=\"illustrated-features__item--interior\")\n",
    "\n",
    "    info = [title,location,price,area,bedrooms,furniture_status]\n",
    "    # print(info)\n",
    "\n"
   ]
  },
  {
   "cell_type": "code",
   "execution_count": 7,
   "metadata": {},
   "outputs": [
    {
     "name": "stdout",
     "output_type": "stream",
     "text": [
      "['Apartment Bosboom Toussaintstraat', '1054 AT Amsterdam (Helmersbuurt)', '€4,750 per month', '155 m²', '5 rooms', 'Furnished']\n",
      "['Apartment Vondelkerkstraat', '1054 KX Amsterdam (Overtoomse Sluis)', '€2,850 per month', '77 m²', '3 rooms', 'Furnished']\n",
      "['Apartment Piet Gijzenbrugstraat', '1059 XK Amsterdam (Hoofddorppleinbuurt)', '€2,150 per month', '70 m²', '3 rooms', 'Furnished']\n",
      "['Apartment Admiraal De Ruijterweg', '1055 NH Amsterdam (Landlust)', '€3,950 per month', '130 m²', '5 rooms', 'Upholstered']\n",
      "['Apartment Jan Evertsenstraat', '1057 BT Amsterdam (Hoofdweg e.o.)', '€4,250 per month', '95 m²', '5 rooms', 'Furnished']\n",
      "['Apartment Oudezijds Voorburgwal', '1012 EM Amsterdam (Burgwallen-Oude Zijde)', '€2,950 per month', '130 m²', '5 rooms', 'Upholstered']\n",
      "['Apartment Cornelis Vermuydenstraat', '1018 RN Amsterdam (Oostelijke Eilanden/Kadijken)', '€2,000 per month', '70 m²', '3 rooms', 'Furnished']\n",
      "['Apartment KNSM-laan', '1019 LG Amsterdam (Oostelijk Havengebied)', '€1,850 per month', '60 m²', '2 rooms', 'Furnished']\n",
      "['Apartment Michelangelostraat 39 hs', '1077 BR Amsterdam (Apollobuurt)', '€4,650 per month', '200 m²', '5 rooms', 'Upholstered']\n",
      "['Apartment Hembrugstraat', '1013 XD Amsterdam (Spaarndammer- en Zeeheldenbuurt)', '€1,950 per month', '40 m²', '3 rooms', None]\n",
      "['Apartment Revaleiland', '1014 ZG Amsterdam (Houthavens)', '€3,750 per month', '155 m²', '4 rooms', 'Furnished']\n",
      "['Apartment Nachtwachtlaan 98', '1058 EC Amsterdam (Overtoomse Veld)', '€1,450 per month', '58 m²', '2 rooms', None]\n",
      "['Apartment Buitendraaierij', '1021 NM Amsterdam (IJplein/Vogelbuurt)', '€1,500 per month', '46 m²', '2 rooms', 'Furnished']\n",
      "['Apartment Gerrit van der Veenstraat', '1077 EE Amsterdam (Apollobuurt)', '€3,475 per month', '162 m²', '4 rooms', 'Upholstered']\n",
      "['Apartment Derde Oosterparkstraat', '1092 EH Amsterdam (Oosterparkbuurt)', '€2,200 per month', '106 m²', '3 rooms', 'Upholstered or furnished']\n",
      "['Apartment Koningslaan 24 C', '1075 AD Amsterdam (Willemspark)', '€3,950 per month', '83 m²', '3 rooms', 'Upholstered']\n",
      "['Apartment Brederodestraat', '1054 VD Amsterdam (Overtoomse Sluis)', '€1,950 per month', '43 m²', '2 rooms', 'Upholstered']\n",
      "['Apartment Termini 405', '1025 XM Amsterdam (Buikslotermeer)', '€1,480 per month', '69 m²', '3 rooms', 'Upholstered']\n",
      "['Apartment Stadionweg', '1077 SV Amsterdam (Apollobuurt)', '€2,250 per month', '58 m²', '3 rooms', 'Upholstered']\n",
      "['Apartment Westerstraat', '1015 LZ Amsterdam (Jordaan)', '€1,850 per month', '50 m²', '2 rooms', 'Upholstered']\n",
      "['Apartment Willem Frederik Hermansstraat', '1011 DG Amsterdam (Nieuwmarkt/Lastage)', '€2,000 per month', '90 m²', '3 rooms', 'Furnished']\n",
      "['Apartment Kerkstraat 113 4', '1017 GD Amsterdam (Grachtengordel-Zuid)', '€1,995 per month', '58 m²', '2 rooms', 'Furnished']\n",
      "['Apartment Runstraat 23 III', '1016 GJ Amsterdam (Grachtengordel-West)', '€2,000 per month', '60 m²', '3 rooms', 'Furnished']\n",
      "['Apartment Keizersgracht 680 II+III', '1017 ET Amsterdam (Grachtengordel-Zuid)', '€3,950 per month', '125 m²', '3 rooms', None]\n",
      "['Apartment Keizersgracht', '1016 EX Amsterdam (Grachtengordel-West)', '€2,100 per month', '60 m²', '1 room', 'Furnished']\n",
      "['Apartment Wouwermanstraat 1 1+2', '1071 LT Amsterdam (Museumkwartier)', '€3,000 per month', '140 m²', '4 rooms', 'Upholstered']\n",
      "['Apartment Sloterkade 138 D', '1058 HM Amsterdam (Hoofddorppleinbuurt)', '€2,600 per month', '106 m²', '3 rooms', 'Upholstered']\n",
      "['Apartment Rooseveltlaan', '1079 AM Amsterdam (Scheldebuurt)', '€4,500 per month', '121 m²', '4 rooms', 'Furnished']\n",
      "['Studio Ferdinand Bolstraat', '1072 LM Amsterdam (Oude Pijp)', '€1,525 per month', '35 m²', '2 rooms', 'Furnished']\n",
      "['Apartment Vierwindenstraat', '1013 CW Amsterdam (Haarlemmerbuurt)', '€2,350 per month', '75 m²', '3 rooms', 'Furnished']\n",
      "['Apartment Kleine Wittenburgerstraat', '1018 LZ Amsterdam (Oostelijke Eilanden/Kadijken)', '€1,900 per month', '60 m²', '2 rooms', 'Furnished']\n"
     ]
    }
   ],
   "source": [
    "# all sections in a list\n",
    "lists = soup.find_all('section', class_='listing-search-item')\n",
    "for list in lists:\n",
    "    title = list.find(\"a\", class_=\"listing-search-item__link--title\")\n",
    "    if title:\n",
    "        title = title.text.strip()\n",
    "    \n",
    "    location = list.find(\"div\", class_=\"listing-search-item__sub-title\")\n",
    "    if location:\n",
    "        location = location.text.strip()\n",
    "    \n",
    "    price = list.find(\"div\", class_=\"listing-search-item__price\")\n",
    "    if price:\n",
    "        price = price.text.strip()\n",
    "    \n",
    "    area = list.find(\"li\", class_=\"illustrated-features__item--surface-area\")\n",
    "    if area:\n",
    "        area = area.text.strip()\n",
    "    \n",
    "    bedrooms = list.find(\"li\", class_=\"illustrated-features__item--number-of-rooms\")\n",
    "    if bedrooms:\n",
    "        bedrooms = bedrooms.text.strip()\n",
    "\n",
    "    furniture_status = list.find(\"li\", class_=\"illustrated-features__item--interior\")\n",
    "    if furniture_status:\n",
    "        furniture_status = furniture_status.text.strip()\n",
    "\n",
    "    info = [title,location,price,area,bedrooms,furniture_status]\n",
    "    print(info)"
   ]
  },
  {
   "cell_type": "code",
   "execution_count": 8,
   "metadata": {},
   "outputs": [],
   "source": [
    "# all sections in a list\n",
    "title_ = []\n",
    "location_ = []\n",
    "price_ = []\n",
    "area_ = []\n",
    "bedrooms_ = []\n",
    "furniture_status_ = []\n",
    "\n",
    "lists = soup.find_all('section', class_='listing-search-item')\n",
    "for list in lists:\n",
    "    title = list.find(\"a\", class_=\"listing-search-item__link--title\")\n",
    "    if title:\n",
    "        title = title.text.strip()\n",
    "    \n",
    "    location = list.find(\"div\", class_=\"listing-search-item__sub-title\")\n",
    "    if location:\n",
    "        location = location.text.strip()\n",
    "    \n",
    "    price = list.find(\"div\", class_=\"listing-search-item__price\")\n",
    "    if price:\n",
    "        price = price.text.strip()\n",
    "    \n",
    "    area = list.find(\"li\", class_=\"illustrated-features__item--surface-area\")\n",
    "    if area:\n",
    "        area = area.text.strip()\n",
    "    \n",
    "    bedrooms = list.find(\"li\", class_=\"illustrated-features__item--number-of-rooms\")\n",
    "    if bedrooms:\n",
    "        bedrooms = bedrooms.text.strip()\n",
    "\n",
    "    furniture_status = list.find(\"li\", class_=\"illustrated-features__item--interior\")\n",
    "    if furniture_status:\n",
    "        furniture_status = furniture_status.text.strip()\n",
    "        \n",
    "    title_.append(title)\n",
    "    location_.append(location)\n",
    "    price_.append(price)\n",
    "    area_.append(area)\n",
    "    bedrooms_.append(bedrooms)\n",
    "    furniture_status_.append(furniture_status)"
   ]
  },
  {
   "cell_type": "markdown",
   "metadata": {},
   "source": [
    "**Data Cleaning**"
   ]
  },
  {
   "cell_type": "code",
   "execution_count": 9,
   "metadata": {},
   "outputs": [],
   "source": [
    "def regex_cleaner(x):\n",
    "    reg = re.compile(r'\\d+')\n",
    "    \n",
    "    final_x = []\n",
    "    for i in range(len(x)):\n",
    "        rectified_x = reg.findall(x[i])\n",
    "        rectified_x = \"\".join(rectified_x)\n",
    "        final_x.append(rectified_x)\n",
    "    return final_x"
   ]
  },
  {
   "cell_type": "code",
   "execution_count": 10,
   "metadata": {},
   "outputs": [],
   "source": [
    "new_area = regex_cleaner(area_)\n",
    "new_price = regex_cleaner(price_)\n",
    "new_bedrooms = regex_cleaner(bedrooms_)"
   ]
  },
  {
   "cell_type": "markdown",
   "metadata": {},
   "source": [
    "**Creating the Data Frame**"
   ]
  },
  {
   "cell_type": "code",
   "execution_count": 11,
   "metadata": {},
   "outputs": [],
   "source": [
    "details = {'title':title_, 'location':location_,'price':new_price,'area':new_area,'bedrooms':new_bedrooms,'furniture_status':furniture_status_}"
   ]
  },
  {
   "cell_type": "code",
   "execution_count": 12,
   "metadata": {},
   "outputs": [
    {
     "data": {
      "text/plain": [
       "title               0\n",
       "location            0\n",
       "price               0\n",
       "area                0\n",
       "bedrooms            0\n",
       "furniture_status    3\n",
       "dtype: int64"
      ]
     },
     "execution_count": 12,
     "metadata": {},
     "output_type": "execute_result"
    }
   ],
   "source": [
    "real_estate = pd.DataFrame(details)\n",
    "real_estate.isna().sum()"
   ]
  },
  {
   "cell_type": "code",
   "execution_count": 14,
   "metadata": {},
   "outputs": [],
   "source": [
    "real_estate.to_csv('scraped_estate_2.csv',index=False)"
   ]
  }
 ],
 "metadata": {
  "kernelspec": {
   "display_name": "Python 3.8.12 (conda)",
   "language": "python",
   "name": "python3"
  },
  "language_info": {
   "codemirror_mode": {
    "name": "ipython",
    "version": 3
   },
   "file_extension": ".py",
   "mimetype": "text/x-python",
   "name": "python",
   "nbconvert_exporter": "python",
   "pygments_lexer": "ipython3",
   "version": "3.8.12"
  },
  "orig_nbformat": 4,
  "vscode": {
   "interpreter": {
    "hash": "c8e3cf4d6bb4a0ac7877b378c8a3c902fd94777f6924c9107da577688ed2ac1b"
   }
  }
 },
 "nbformat": 4,
 "nbformat_minor": 2
}
