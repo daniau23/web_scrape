{
 "cells": [
  {
   "cell_type": "code",
   "execution_count": 1,
   "metadata": {},
   "outputs": [],
   "source": [
    "import pandas as pd\n",
    "import numpy as np \n",
    "import matplotlib.pyplot as plt\n",
    "import plotly.express as px\n",
    "import plotly.graph_objects as go\n",
    "import seaborn as sns\n",
    "import warnings\n",
    "warnings.filterwarnings(\"ignore\")\n",
    "from bs4 import BeautifulSoup\n",
    "import requests\n",
    "from csv import writer\n",
    "import re"
   ]
  },
  {
   "cell_type": "code",
   "execution_count": 2,
   "metadata": {},
   "outputs": [],
   "source": [
    "url = \"https://www.pararius.com/apartments/amsterdam?ac=1\""
   ]
  },
  {
   "cell_type": "code",
   "execution_count": 3,
   "metadata": {},
   "outputs": [
    {
     "name": "stdout",
     "output_type": "stream",
     "text": [
      "<Response [200]>\n"
     ]
    }
   ],
   "source": [
    "page = requests.get(url)\n",
    "print(page)"
   ]
  },
  {
   "cell_type": "code",
   "execution_count": 4,
   "metadata": {},
   "outputs": [],
   "source": [
    "soup = BeautifulSoup(page.content,'html.parser')\n",
    "# soup"
   ]
  },
  {
   "cell_type": "code",
   "execution_count": 5,
   "metadata": {},
   "outputs": [],
   "source": [
    "# soup.prettify()\n",
    "# print(soup.prettify())"
   ]
  },
  {
   "cell_type": "code",
   "execution_count": 6,
   "metadata": {},
   "outputs": [],
   "source": [
    "# all sections in a list\n",
    "lists = soup.find_all('section', class_='listing-search-item')\n",
    "for list in lists:\n",
    "    title = list.find(\"a\", class_=\"listing-search-item__link--title\")\n",
    "    location = list.find(\"div\", class_=\"listing-search-item__sub-title\")\n",
    "    price = list.find(\"div\", class_=\"listing-search-item__price\")\n",
    "    area = list.find(\"li\", class_=\"illustrated-features__item--surface-area\")\n",
    "    bedrooms = list.find(\"li\", class_=\"illustrated-features__item--number-of-rooms\")\n",
    "    furniture_status = list.find(\"li\", class_=\"illustrated-features__item--interior\")\n",
    "\n",
    "    # info = [title,location,price,area,bedrooms,furniture_status]\n",
    "    # print(info)"
   ]
  },
  {
   "cell_type": "code",
   "execution_count": 7,
   "metadata": {},
   "outputs": [],
   "source": [
    "# all sections in a list\n",
    "lists = soup.find_all('section', class_='listing-search-item')\n",
    "for list in lists:\n",
    "    title = list.find(\"a\", class_=\"listing-search-item__link--title\")\n",
    "    if title:\n",
    "        title = title.text.strip()\n",
    "    \n",
    "    location = list.find(\"div\", class_=\"listing-search-item__sub-title\")\n",
    "    if location:\n",
    "        location = location.text.strip()\n",
    "    \n",
    "    price = list.find(\"div\", class_=\"listing-search-item__price\")\n",
    "    if price:\n",
    "        price = price.text.strip()\n",
    "    \n",
    "    area = list.find(\"li\", class_=\"illustrated-features__item--surface-area\")\n",
    "    if area:\n",
    "        area = area.text.strip()\n",
    "    \n",
    "    bedrooms = list.find(\"li\", class_=\"illustrated-features__item--number-of-rooms\")\n",
    "    if bedrooms:\n",
    "        bedrooms = bedrooms.text.strip()\n",
    "\n",
    "    furniture_status = list.find(\"li\", class_=\"illustrated-features__item--interior\")\n",
    "    if furniture_status:\n",
    "        furniture_status = furniture_status.text.strip()\n",
    "\n",
    "    # info = [title,location,price,area,bedrooms,furniture_status]\n",
    "    # print(info)"
   ]
  },
  {
   "cell_type": "code",
   "execution_count": 8,
   "metadata": {},
   "outputs": [],
   "source": [
    "# all sections in a list\n",
    "title_ = []\n",
    "location_ = []\n",
    "price_ = []\n",
    "area_ = []\n",
    "bedrooms_ = []\n",
    "furniture_status_ = []\n",
    "\n",
    "lists = soup.find_all('section', class_='listing-search-item')\n",
    "for list in lists:\n",
    "    title = list.find(\"a\", class_=\"listing-search-item__link--title\")\n",
    "    if title:\n",
    "        title = title.text.strip()\n",
    "    \n",
    "    location = list.find(\"div\", class_=\"listing-search-item__sub-title\")\n",
    "    if location:\n",
    "        location = location.text.strip()\n",
    "    \n",
    "    price = list.find(\"div\", class_=\"listing-search-item__price\")\n",
    "    if price:\n",
    "        price = price.text.strip()\n",
    "    \n",
    "    area = list.find(\"li\", class_=\"illustrated-features__item--surface-area\")\n",
    "    if area:\n",
    "        area = area.text.strip()\n",
    "    \n",
    "    bedrooms = list.find(\"li\", class_=\"illustrated-features__item--number-of-rooms\")\n",
    "    if bedrooms:\n",
    "        bedrooms = bedrooms.text.strip()\n",
    "\n",
    "    furniture_status = list.find(\"li\", class_=\"illustrated-features__item--interior\")\n",
    "    if furniture_status:\n",
    "        furniture_status = furniture_status.text.strip()\n",
    "        \n",
    "    title_.append(title)\n",
    "    location_.append(location)\n",
    "    price_.append(price)\n",
    "    area_.append(area)\n",
    "    bedrooms_.append(bedrooms)\n",
    "    furniture_status_.append(furniture_status)"
   ]
  },
  {
   "cell_type": "markdown",
   "metadata": {},
   "source": [
    "**Data Cleaning**"
   ]
  },
  {
   "cell_type": "code",
   "execution_count": 9,
   "metadata": {},
   "outputs": [],
   "source": [
    "def regex_cleaner(x):\n",
    "    reg = re.compile(r'\\d+')\n",
    "    \n",
    "    final_x = []\n",
    "    for i in range(len(x)):\n",
    "        rectified_x = reg.findall(x[i])\n",
    "        rectified_x = \"\".join(rectified_x)\n",
    "        final_x.append(rectified_x)\n",
    "    return final_x"
   ]
  },
  {
   "cell_type": "code",
   "execution_count": 10,
   "metadata": {},
   "outputs": [],
   "source": [
    "new_area = regex_cleaner(area_)\n",
    "new_price = regex_cleaner(price_)\n",
    "new_bedrooms = regex_cleaner(bedrooms_)"
   ]
  },
  {
   "cell_type": "markdown",
   "metadata": {},
   "source": [
    "**Creating the Data Frame**"
   ]
  },
  {
   "cell_type": "code",
   "execution_count": 11,
   "metadata": {},
   "outputs": [],
   "source": [
    "details = {'title':title_, 'location':location_,'price':new_price,'area':new_area,'bedrooms':new_bedrooms,'furniture_status':furniture_status_}"
   ]
  },
  {
   "cell_type": "code",
   "execution_count": 12,
   "metadata": {},
   "outputs": [
    {
     "data": {
      "text/plain": [
       "title               0\n",
       "location            0\n",
       "price               0\n",
       "area                0\n",
       "bedrooms            0\n",
       "furniture_status    3\n",
       "dtype: int64"
      ]
     },
     "execution_count": 12,
     "metadata": {},
     "output_type": "execute_result"
    }
   ],
   "source": [
    "real_estate = pd.DataFrame(details)\n",
    "real_estate.isna().sum()"
   ]
  },
  {
   "cell_type": "code",
   "execution_count": 13,
   "metadata": {},
   "outputs": [],
   "source": [
    "real_estate.dropna(axis=0,inplace=True)"
   ]
  },
  {
   "cell_type": "code",
   "execution_count": 14,
   "metadata": {},
   "outputs": [
    {
     "data": {
      "text/html": [
       "<div>\n",
       "<style scoped>\n",
       "    .dataframe tbody tr th:only-of-type {\n",
       "        vertical-align: middle;\n",
       "    }\n",
       "\n",
       "    .dataframe tbody tr th {\n",
       "        vertical-align: top;\n",
       "    }\n",
       "\n",
       "    .dataframe thead th {\n",
       "        text-align: right;\n",
       "    }\n",
       "</style>\n",
       "<table border=\"1\" class=\"dataframe\">\n",
       "  <thead>\n",
       "    <tr style=\"text-align: right;\">\n",
       "      <th></th>\n",
       "      <th>title</th>\n",
       "      <th>location</th>\n",
       "      <th>price</th>\n",
       "      <th>area</th>\n",
       "      <th>bedrooms</th>\n",
       "      <th>furniture_status</th>\n",
       "    </tr>\n",
       "  </thead>\n",
       "  <tbody>\n",
       "    <tr>\n",
       "      <th>0</th>\n",
       "      <td>Apartment Bosboom Toussaintstraat</td>\n",
       "      <td>1054 AT Amsterdam (Helmersbuurt)</td>\n",
       "      <td>4750</td>\n",
       "      <td>155</td>\n",
       "      <td>5</td>\n",
       "      <td>Furnished</td>\n",
       "    </tr>\n",
       "    <tr>\n",
       "      <th>1</th>\n",
       "      <td>Apartment Planciusstraat</td>\n",
       "      <td>1013 MD Amsterdam (Haarlemmerbuurt)</td>\n",
       "      <td>3250</td>\n",
       "      <td>157</td>\n",
       "      <td>3</td>\n",
       "      <td>Furnished</td>\n",
       "    </tr>\n",
       "    <tr>\n",
       "      <th>2</th>\n",
       "      <td>Apartment Singel 94 B</td>\n",
       "      <td>1015 AD Amsterdam (Grachtengordel-West)</td>\n",
       "      <td>4250</td>\n",
       "      <td>135</td>\n",
       "      <td>3</td>\n",
       "      <td>Furnished</td>\n",
       "    </tr>\n",
       "    <tr>\n",
       "      <th>3</th>\n",
       "      <td>Apartment Damstraat 1 E</td>\n",
       "      <td>1012 JL Amsterdam (Burgwallen-Oude Zijde)</td>\n",
       "      <td>4000</td>\n",
       "      <td>100</td>\n",
       "      <td>3</td>\n",
       "      <td>Furnished</td>\n",
       "    </tr>\n",
       "    <tr>\n",
       "      <th>4</th>\n",
       "      <td>Apartment Ookmeerweg 8 A</td>\n",
       "      <td>1068 ZX Amsterdam (Osdorp-Oost)</td>\n",
       "      <td>1660</td>\n",
       "      <td>123</td>\n",
       "      <td>4</td>\n",
       "      <td>Upholstered</td>\n",
       "    </tr>\n",
       "  </tbody>\n",
       "</table>\n",
       "</div>"
      ],
      "text/plain": [
       "                               title  \\\n",
       "0  Apartment Bosboom Toussaintstraat   \n",
       "1           Apartment Planciusstraat   \n",
       "2              Apartment Singel 94 B   \n",
       "3            Apartment Damstraat 1 E   \n",
       "4           Apartment Ookmeerweg 8 A   \n",
       "\n",
       "                                    location price area bedrooms  \\\n",
       "0           1054 AT Amsterdam (Helmersbuurt)  4750  155        5   \n",
       "1        1013 MD Amsterdam (Haarlemmerbuurt)  3250  157        3   \n",
       "2    1015 AD Amsterdam (Grachtengordel-West)  4250  135        3   \n",
       "3  1012 JL Amsterdam (Burgwallen-Oude Zijde)  4000  100        3   \n",
       "4            1068 ZX Amsterdam (Osdorp-Oost)  1660  123        4   \n",
       "\n",
       "  furniture_status  \n",
       "0        Furnished  \n",
       "1        Furnished  \n",
       "2        Furnished  \n",
       "3        Furnished  \n",
       "4      Upholstered  "
      ]
     },
     "execution_count": 14,
     "metadata": {},
     "output_type": "execute_result"
    }
   ],
   "source": [
    "real_estate.head()"
   ]
  },
  {
   "cell_type": "markdown",
   "metadata": {},
   "source": [
    "**Scraping new data from multiple pages**"
   ]
  },
  {
   "cell_type": "code",
   "execution_count": 15,
   "metadata": {},
   "outputs": [],
   "source": [
    "url_pages = []\n",
    "title_ = []\n",
    "location_ = []\n",
    "price_ = []\n",
    "area_ = []\n",
    "bedrooms_ = []\n",
    "furniture_status_ = []\n",
    "page = 2\n",
    "while page != 19:\n",
    "    url = f\"https://www.pararius.com/apartments/amsterdam/page-{page}\"\n",
    "    response = requests.get(url)\n",
    "    soup = BeautifulSoup(response.content,'html.parser')\n",
    "    \n",
    "    # all sections in a list\n",
    "    # getting the data\n",
    "    lists = soup.find_all('section', class_='listing-search-item')\n",
    "    for list in lists:\n",
    "        title = list.find(\"a\", class_=\"listing-search-item__link--title\")\n",
    "        if title:\n",
    "            title = title.text.strip()\n",
    "        \n",
    "        location = list.find(\"div\", class_=\"listing-search-item__sub-title\")\n",
    "        if location:\n",
    "            location = location.text.strip()\n",
    "        \n",
    "        price = list.find(\"div\", class_=\"listing-search-item__price\")\n",
    "        if price:\n",
    "            price = price.text.strip()\n",
    "        \n",
    "        area = list.find(\"li\", class_=\"illustrated-features__item--surface-area\")\n",
    "        if area:\n",
    "            area = area.text.strip()\n",
    "        \n",
    "        bedrooms = list.find(\"li\", class_=\"illustrated-features__item--number-of-rooms\")\n",
    "        if bedrooms:\n",
    "            bedrooms = bedrooms.text.strip()\n",
    "\n",
    "        furniture_status = list.find(\"li\", class_=\"illustrated-features__item--interior\")\n",
    "        if furniture_status:\n",
    "            furniture_status = furniture_status.text.strip()\n",
    "            \n",
    "        title_.append(title)\n",
    "        location_.append(location)\n",
    "        price_.append(price)\n",
    "        area_.append(area)\n",
    "        bedrooms_.append(bedrooms)\n",
    "        furniture_status_.append(furniture_status)\n",
    "\n",
    "    page = page + 1"
   ]
  },
  {
   "cell_type": "code",
   "execution_count": 16,
   "metadata": {},
   "outputs": [],
   "source": [
    "new_area = regex_cleaner(area_)\n",
    "new_price = regex_cleaner(price_)\n",
    "new_bedrooms = regex_cleaner(bedrooms_)"
   ]
  },
  {
   "cell_type": "code",
   "execution_count": 17,
   "metadata": {},
   "outputs": [],
   "source": [
    "details_multiple_pages = {'title':title_, 'location':location_,'price':new_price,'area':new_area,'bedrooms':new_bedrooms,'furniture_status':furniture_status_}"
   ]
  },
  {
   "cell_type": "code",
   "execution_count": 18,
   "metadata": {},
   "outputs": [
    {
     "data": {
      "text/plain": [
       "title                0\n",
       "location             0\n",
       "price                0\n",
       "area                 0\n",
       "bedrooms             0\n",
       "furniture_status    73\n",
       "dtype: int64"
      ]
     },
     "execution_count": 18,
     "metadata": {},
     "output_type": "execute_result"
    }
   ],
   "source": [
    "real_estate_multiple = pd.DataFrame(details_multiple_pages)\n",
    "real_estate_multiple.isna().sum()"
   ]
  },
  {
   "cell_type": "code",
   "execution_count": 19,
   "metadata": {},
   "outputs": [],
   "source": [
    "real_estate_multiple.dropna(axis=0,inplace=True)"
   ]
  },
  {
   "cell_type": "code",
   "execution_count": 20,
   "metadata": {},
   "outputs": [
    {
     "data": {
      "text/html": [
       "<div>\n",
       "<style scoped>\n",
       "    .dataframe tbody tr th:only-of-type {\n",
       "        vertical-align: middle;\n",
       "    }\n",
       "\n",
       "    .dataframe tbody tr th {\n",
       "        vertical-align: top;\n",
       "    }\n",
       "\n",
       "    .dataframe thead th {\n",
       "        text-align: right;\n",
       "    }\n",
       "</style>\n",
       "<table border=\"1\" class=\"dataframe\">\n",
       "  <thead>\n",
       "    <tr style=\"text-align: right;\">\n",
       "      <th></th>\n",
       "      <th>title</th>\n",
       "      <th>location</th>\n",
       "      <th>price</th>\n",
       "      <th>area</th>\n",
       "      <th>bedrooms</th>\n",
       "      <th>furniture_status</th>\n",
       "    </tr>\n",
       "  </thead>\n",
       "  <tbody>\n",
       "    <tr>\n",
       "      <th>0</th>\n",
       "      <td>Apartment Bosboom Toussaintstraat</td>\n",
       "      <td>1054 AT Amsterdam (Helmersbuurt)</td>\n",
       "      <td>4750</td>\n",
       "      <td>155</td>\n",
       "      <td>5</td>\n",
       "      <td>Furnished</td>\n",
       "    </tr>\n",
       "    <tr>\n",
       "      <th>1</th>\n",
       "      <td>Apartment Willem Frederik Hermansstraat</td>\n",
       "      <td>1011 DG Amsterdam (Nieuwmarkt/Lastage)</td>\n",
       "      <td>2000</td>\n",
       "      <td>90</td>\n",
       "      <td>3</td>\n",
       "      <td>Furnished</td>\n",
       "    </tr>\n",
       "    <tr>\n",
       "      <th>2</th>\n",
       "      <td>Apartment Runstraat 23 III</td>\n",
       "      <td>1016 GJ Amsterdam (Grachtengordel-West)</td>\n",
       "      <td>2000</td>\n",
       "      <td>60</td>\n",
       "      <td>3</td>\n",
       "      <td>Furnished</td>\n",
       "    </tr>\n",
       "    <tr>\n",
       "      <th>4</th>\n",
       "      <td>Apartment Wouwermanstraat 1 1+2</td>\n",
       "      <td>1071 LT Amsterdam (Museumkwartier)</td>\n",
       "      <td>3000</td>\n",
       "      <td>140</td>\n",
       "      <td>4</td>\n",
       "      <td>Upholstered</td>\n",
       "    </tr>\n",
       "    <tr>\n",
       "      <th>5</th>\n",
       "      <td>Apartment Sloterkade 138 D</td>\n",
       "      <td>1058 HM Amsterdam (Hoofddorppleinbuurt)</td>\n",
       "      <td>2600</td>\n",
       "      <td>106</td>\n",
       "      <td>3</td>\n",
       "      <td>Upholstered</td>\n",
       "    </tr>\n",
       "    <tr>\n",
       "      <th>...</th>\n",
       "      <td>...</td>\n",
       "      <td>...</td>\n",
       "      <td>...</td>\n",
       "      <td>...</td>\n",
       "      <td>...</td>\n",
       "      <td>...</td>\n",
       "    </tr>\n",
       "    <tr>\n",
       "      <th>517</th>\n",
       "      <td>Apartment Wilhelminastraat 29 2</td>\n",
       "      <td>1054 VV Amsterdam (Helmersbuurt)</td>\n",
       "      <td>2000</td>\n",
       "      <td>53</td>\n",
       "      <td>2</td>\n",
       "      <td>Upholstered or furnished</td>\n",
       "    </tr>\n",
       "    <tr>\n",
       "      <th>518</th>\n",
       "      <td>Apartment Valeriusstraat</td>\n",
       "      <td>1075 GC Amsterdam (Willemspark)</td>\n",
       "      <td>5500</td>\n",
       "      <td>210</td>\n",
       "      <td>5</td>\n",
       "      <td>Upholstered</td>\n",
       "    </tr>\n",
       "    <tr>\n",
       "      <th>521</th>\n",
       "      <td>House Amstelbeststraat 4</td>\n",
       "      <td>1096 GD Amsterdam (Omval/Overamstel)</td>\n",
       "      <td>8750</td>\n",
       "      <td>324</td>\n",
       "      <td>7</td>\n",
       "      <td>Furnished</td>\n",
       "    </tr>\n",
       "    <tr>\n",
       "      <th>522</th>\n",
       "      <td>Apartment Leliegracht 12 1</td>\n",
       "      <td>1015 DE Amsterdam (Grachtengordel-West)</td>\n",
       "      <td>2250</td>\n",
       "      <td>95</td>\n",
       "      <td>2</td>\n",
       "      <td>Furnished</td>\n",
       "    </tr>\n",
       "    <tr>\n",
       "      <th>523</th>\n",
       "      <td>Apartment Leliegracht 12 II</td>\n",
       "      <td>1015 DE Amsterdam (Grachtengordel-West)</td>\n",
       "      <td>3400</td>\n",
       "      <td>160</td>\n",
       "      <td>3</td>\n",
       "      <td>Furnished</td>\n",
       "    </tr>\n",
       "  </tbody>\n",
       "</table>\n",
       "<p>451 rows × 6 columns</p>\n",
       "</div>"
      ],
      "text/plain": [
       "                                       title  \\\n",
       "0          Apartment Bosboom Toussaintstraat   \n",
       "1    Apartment Willem Frederik Hermansstraat   \n",
       "2                 Apartment Runstraat 23 III   \n",
       "4            Apartment Wouwermanstraat 1 1+2   \n",
       "5                 Apartment Sloterkade 138 D   \n",
       "..                                       ...   \n",
       "517          Apartment Wilhelminastraat 29 2   \n",
       "518                 Apartment Valeriusstraat   \n",
       "521                 House Amstelbeststraat 4   \n",
       "522               Apartment Leliegracht 12 1   \n",
       "523              Apartment Leliegracht 12 II   \n",
       "\n",
       "                                    location price area bedrooms  \\\n",
       "0           1054 AT Amsterdam (Helmersbuurt)  4750  155        5   \n",
       "1     1011 DG Amsterdam (Nieuwmarkt/Lastage)  2000   90        3   \n",
       "2    1016 GJ Amsterdam (Grachtengordel-West)  2000   60        3   \n",
       "4         1071 LT Amsterdam (Museumkwartier)  3000  140        4   \n",
       "5    1058 HM Amsterdam (Hoofddorppleinbuurt)  2600  106        3   \n",
       "..                                       ...   ...  ...      ...   \n",
       "517         1054 VV Amsterdam (Helmersbuurt)  2000   53        2   \n",
       "518          1075 GC Amsterdam (Willemspark)  5500  210        5   \n",
       "521     1096 GD Amsterdam (Omval/Overamstel)  8750  324        7   \n",
       "522  1015 DE Amsterdam (Grachtengordel-West)  2250   95        2   \n",
       "523  1015 DE Amsterdam (Grachtengordel-West)  3400  160        3   \n",
       "\n",
       "             furniture_status  \n",
       "0                   Furnished  \n",
       "1                   Furnished  \n",
       "2                   Furnished  \n",
       "4                 Upholstered  \n",
       "5                 Upholstered  \n",
       "..                        ...  \n",
       "517  Upholstered or furnished  \n",
       "518               Upholstered  \n",
       "521                 Furnished  \n",
       "522                 Furnished  \n",
       "523                 Furnished  \n",
       "\n",
       "[451 rows x 6 columns]"
      ]
     },
     "execution_count": 20,
     "metadata": {},
     "output_type": "execute_result"
    }
   ],
   "source": [
    "real_estate_multiple"
   ]
  },
  {
   "cell_type": "code",
   "execution_count": 21,
   "metadata": {},
   "outputs": [],
   "source": [
    "all_real_estate =[real_estate,real_estate_multiple]\n",
    "all_real_estate_df = pd.concat(all_real_estate)"
   ]
  },
  {
   "cell_type": "code",
   "execution_count": 22,
   "metadata": {},
   "outputs": [
    {
     "data": {
      "text/html": [
       "<div>\n",
       "<style scoped>\n",
       "    .dataframe tbody tr th:only-of-type {\n",
       "        vertical-align: middle;\n",
       "    }\n",
       "\n",
       "    .dataframe tbody tr th {\n",
       "        vertical-align: top;\n",
       "    }\n",
       "\n",
       "    .dataframe thead th {\n",
       "        text-align: right;\n",
       "    }\n",
       "</style>\n",
       "<table border=\"1\" class=\"dataframe\">\n",
       "  <thead>\n",
       "    <tr style=\"text-align: right;\">\n",
       "      <th></th>\n",
       "      <th>title</th>\n",
       "      <th>location</th>\n",
       "      <th>price</th>\n",
       "      <th>area</th>\n",
       "      <th>bedrooms</th>\n",
       "      <th>furniture_status</th>\n",
       "    </tr>\n",
       "  </thead>\n",
       "  <tbody>\n",
       "    <tr>\n",
       "      <th>0</th>\n",
       "      <td>Apartment Bosboom Toussaintstraat</td>\n",
       "      <td>1054 AT Amsterdam (Helmersbuurt)</td>\n",
       "      <td>4750</td>\n",
       "      <td>155</td>\n",
       "      <td>5</td>\n",
       "      <td>Furnished</td>\n",
       "    </tr>\n",
       "    <tr>\n",
       "      <th>1</th>\n",
       "      <td>Apartment Planciusstraat</td>\n",
       "      <td>1013 MD Amsterdam (Haarlemmerbuurt)</td>\n",
       "      <td>3250</td>\n",
       "      <td>157</td>\n",
       "      <td>3</td>\n",
       "      <td>Furnished</td>\n",
       "    </tr>\n",
       "    <tr>\n",
       "      <th>2</th>\n",
       "      <td>Apartment Singel 94 B</td>\n",
       "      <td>1015 AD Amsterdam (Grachtengordel-West)</td>\n",
       "      <td>4250</td>\n",
       "      <td>135</td>\n",
       "      <td>3</td>\n",
       "      <td>Furnished</td>\n",
       "    </tr>\n",
       "    <tr>\n",
       "      <th>3</th>\n",
       "      <td>Apartment Damstraat 1 E</td>\n",
       "      <td>1012 JL Amsterdam (Burgwallen-Oude Zijde)</td>\n",
       "      <td>4000</td>\n",
       "      <td>100</td>\n",
       "      <td>3</td>\n",
       "      <td>Furnished</td>\n",
       "    </tr>\n",
       "    <tr>\n",
       "      <th>4</th>\n",
       "      <td>Apartment Ookmeerweg 8 A</td>\n",
       "      <td>1068 ZX Amsterdam (Osdorp-Oost)</td>\n",
       "      <td>1660</td>\n",
       "      <td>123</td>\n",
       "      <td>4</td>\n",
       "      <td>Upholstered</td>\n",
       "    </tr>\n",
       "  </tbody>\n",
       "</table>\n",
       "</div>"
      ],
      "text/plain": [
       "                               title  \\\n",
       "0  Apartment Bosboom Toussaintstraat   \n",
       "1           Apartment Planciusstraat   \n",
       "2              Apartment Singel 94 B   \n",
       "3            Apartment Damstraat 1 E   \n",
       "4           Apartment Ookmeerweg 8 A   \n",
       "\n",
       "                                    location price area bedrooms  \\\n",
       "0           1054 AT Amsterdam (Helmersbuurt)  4750  155        5   \n",
       "1        1013 MD Amsterdam (Haarlemmerbuurt)  3250  157        3   \n",
       "2    1015 AD Amsterdam (Grachtengordel-West)  4250  135        3   \n",
       "3  1012 JL Amsterdam (Burgwallen-Oude Zijde)  4000  100        3   \n",
       "4            1068 ZX Amsterdam (Osdorp-Oost)  1660  123        4   \n",
       "\n",
       "  furniture_status  \n",
       "0        Furnished  \n",
       "1        Furnished  \n",
       "2        Furnished  \n",
       "3        Furnished  \n",
       "4      Upholstered  "
      ]
     },
     "execution_count": 22,
     "metadata": {},
     "output_type": "execute_result"
    }
   ],
   "source": [
    "all_real_estate_df.head()"
   ]
  },
  {
   "cell_type": "code",
   "execution_count": 23,
   "metadata": {},
   "outputs": [],
   "source": [
    "all_real_estate_df.to_csv('scraped_estate_3.csv',index=False)"
   ]
  }
 ],
 "metadata": {
  "kernelspec": {
   "display_name": "Python 3.8.12 (conda)",
   "language": "python",
   "name": "python3"
  },
  "language_info": {
   "codemirror_mode": {
    "name": "ipython",
    "version": 3
   },
   "file_extension": ".py",
   "mimetype": "text/x-python",
   "name": "python",
   "nbconvert_exporter": "python",
   "pygments_lexer": "ipython3",
   "version": "3.8.12"
  },
  "orig_nbformat": 4,
  "vscode": {
   "interpreter": {
    "hash": "c8e3cf4d6bb4a0ac7877b378c8a3c902fd94777f6924c9107da577688ed2ac1b"
   }
  }
 },
 "nbformat": 4,
 "nbformat_minor": 2
}
